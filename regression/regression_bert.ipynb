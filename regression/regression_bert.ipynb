{
 "cells": [
  {
   "cell_type": "code",
   "execution_count": 15,
   "metadata": {},
   "outputs": [],
   "source": [
    "from simpletransformers.classification import ClassificationModel\n",
    "import numpy as np\n",
    "import pandas as pd\n",
    "from sklearn import preprocessing\n",
    "from scipy import stats\n",
    "import wandb\n"
   ]
  },
  {
   "cell_type": "code",
   "execution_count": 16,
   "metadata": {},
   "outputs": [],
   "source": [
    "#subscribers data\n",
    "daryo_n = [597660, 635395, 876932, 944683, 970976, 974959, 1001620, 987818, 955630, 930500]\n",
    "kun_n = [866120, 897421, 1234502, 1327874, 1400304, 1419048, 1468400, 1467269, 1487835, 1533702]\n",
    "qalampir_n = [84189, 91990, 132252, 141007, 162540, 167763, 182913, 186740, 185759, 183327]\n",
    "\n",
    "view_period=7 # days "
   ]
  },
  {
   "cell_type": "code",
   "execution_count": 17,
   "metadata": {},
   "outputs": [],
   "source": [
    "def create_fields(data, source):\n",
    "    dates = pd.DatetimeIndex(data['date'])\n",
    "    n_views = data['num_views'].values\n",
    "\n",
    "    labels = []\n",
    "    day_of_week = []\n",
    "    for i in range(0, len(dates)):\n",
    "\n",
    "        daily_rate = n_views[i]/view_period\n",
    "        average_daily_rate = int(source[dates.month[i]-1]/100) # scaling down it a bit\n",
    "\n",
    "        labels.append(daily_rate/average_daily_rate)\n",
    "        day_of_week.append(dates[i].dayofweek)\n",
    "    \n",
    "    return labels, day_of_week"
   ]
  },
  {
   "cell_type": "code",
   "execution_count": 18,
   "metadata": {},
   "outputs": [],
   "source": [
    "daryo = pd.read_json(\"daryo_articles.jsonl\", orient='columns', lines=False)\n",
    "kun = pd.read_json(\"kun_articles.jsonl\", orient='columns', lines=True)\n",
    "qalampir = pd.read_json(\"qalampir_articles.jsonl\", orient='columns', lines=True)\n",
    "\n",
    "labels, day_of_week = create_fields(daryo, daryo_n)\n",
    "    \n",
    "daryo.insert(len(daryo.columns), \"labels\", labels, True) \n",
    "daryo.insert(len(daryo.columns)-1, \"day_of_week\", day_of_week, True)\n",
    "daryo.insert(2, \"source\", len(daryo)*[1], True) \n",
    "\n",
    "labels, day_of_week = create_fields(kun, kun_n)\n",
    "    \n",
    "kun.insert(len(kun.columns), \"labels\", labels, True) \n",
    "kun.insert(len(kun.columns)-1, \"day_of_week\", day_of_week, True)\n",
    "kun.insert(2, \"source\", len(kun)*[2], True) \n",
    "\n",
    "labels, day_of_week = create_fields(qalampir, qalampir_n)\n",
    "    \n",
    "qalampir.insert(len(qalampir.columns), \"labels\", labels, True) \n",
    "qalampir.insert(len(qalampir.columns)-1, \"day_of_week\", day_of_week, True)\n",
    "qalampir.insert(2, \"source\", len(qalampir)*[3], True) \n"
   ]
  },
  {
   "cell_type": "code",
   "execution_count": 22,
   "metadata": {},
   "outputs": [
    {
     "data": {
      "text/plain": [
       "{'3-саҳифа',\n",
       " 'Бу қизиқ',\n",
       " 'Жамият',\n",
       " 'Интервью',\n",
       " 'Маданият-санъат',\n",
       " 'Мусиқа',\n",
       " 'Олам',\n",
       " 'Реклама',\n",
       " 'Саломатлик',\n",
       " 'Спорт',\n",
       " 'Таҳлил',\n",
       " 'Технология',\n",
       " 'Фойдали'}"
      ]
     },
     "execution_count": 22,
     "metadata": {},
     "output_type": "execute_result"
    }
   ],
   "source": [
    "# output = [daryo, kun, qalampir]\n",
    "# output = pd.concat(output)\n",
    "# output.to_json('output_raw.jsonl', orient='records', lines=True)\n",
    "set(qalampir.category.values)\n",
    "\n"
   ]
  },
  {
   "cell_type": "code",
   "execution_count": 9,
   "metadata": {},
   "outputs": [],
   "source": [
    "def _format(data):\n",
    "    return pd.DataFrame({\n",
    "        'text_a': '[CLS] ' + data['content'],\n",
    "        'text_b': data['title'],\n",
    "        'text_c': data['num_links'],\n",
    "        'text_d': data['num_images'],\n",
    "        'text_e': data['day_of_week'],\n",
    "        'text_f': data['num_quotes'],\n",
    "        'labels': data['labels']\n",
    "    })"
   ]
  },
  {
   "cell_type": "code",
   "execution_count": 10,
   "metadata": {},
   "outputs": [],
   "source": [
    "def scale(train_df, column):\n",
    "    return (train_df[column]-train_df[column].min())/(train_df[column].max()-train_df[column].min())\n"
   ]
  },
  {
   "cell_type": "code",
   "execution_count": 11,
   "metadata": {},
   "outputs": [],
   "source": [
    "# scale it\n",
    "def scale_fields(train_df):\n",
    "    train_df['text_c'] = scale(train_df, 'text_c')\n",
    "    train_df['text_d'] = scale(train_df, 'text_d')\n",
    "    train_df['text_e'] = scale(train_df, 'text_e')\n",
    "    train_df['text_f'] = scale(train_df, 'text_f')\n",
    "    train_df['labels'] = scale(train_df, 'labels')\n",
    "    return train_df\n",
    "\n"
   ]
  },
  {
   "cell_type": "code",
   "execution_count": 12,
   "metadata": {},
   "outputs": [],
   "source": [
    "daryo = scale_fields(_format(daryo))\n",
    "kun = scale_fields(_format(kun))\n",
    "qalampir = scale_fields(_format(qalampir))\n",
    "\n",
    "train_df = [daryo, kun, qalampir]\n",
    "train_df = pd.concat(train_df)"
   ]
  },
  {
   "cell_type": "code",
   "execution_count": 14,
   "metadata": {},
   "outputs": [
    {
     "data": {
      "text/html": [
       "<div>\n",
       "<style scoped>\n",
       "    .dataframe tbody tr th:only-of-type {\n",
       "        vertical-align: middle;\n",
       "    }\n",
       "\n",
       "    .dataframe tbody tr th {\n",
       "        vertical-align: top;\n",
       "    }\n",
       "\n",
       "    .dataframe thead th {\n",
       "        text-align: right;\n",
       "    }\n",
       "</style>\n",
       "<table border=\"1\" class=\"dataframe\">\n",
       "  <thead>\n",
       "    <tr style=\"text-align: right;\">\n",
       "      <th></th>\n",
       "      <th>text_a</th>\n",
       "      <th>text_b</th>\n",
       "      <th>text_c</th>\n",
       "      <th>text_d</th>\n",
       "      <th>text_e</th>\n",
       "      <th>text_f</th>\n",
       "      <th>labels</th>\n",
       "    </tr>\n",
       "  </thead>\n",
       "  <tbody>\n",
       "    <tr>\n",
       "      <th>0</th>\n",
       "      <td>[CLS] Microsoft kompaniyasi asoschisi Bill Gey...</td>\n",
       "      <td>Bill Geyts koronavirus bilan bog‘liq vaziyat y...</td>\n",
       "      <td>0.042857</td>\n",
       "      <td>0.008065</td>\n",
       "      <td>0.666667</td>\n",
       "      <td>0.111111</td>\n",
       "      <td>0.025070</td>\n",
       "    </tr>\n",
       "    <tr>\n",
       "      <th>1</th>\n",
       "      <td>[CLS] Sog‘liqni saqlash vazirining tegishli bu...</td>\n",
       "      <td>Respublika akusherlik va ginekologiya markazig...</td>\n",
       "      <td>0.057143</td>\n",
       "      <td>0.008065</td>\n",
       "      <td>0.666667</td>\n",
       "      <td>0.000000</td>\n",
       "      <td>0.031297</td>\n",
       "    </tr>\n",
       "    <tr>\n",
       "      <th>2</th>\n",
       "      <td>[CLS] Forbes Uzbekistan o‘z faoliyatini to‘xta...</td>\n",
       "      <td>Forbes Uzbekistan o‘z faoliyatini to‘xtatdi</td>\n",
       "      <td>0.057143</td>\n",
       "      <td>0.008065</td>\n",
       "      <td>0.666667</td>\n",
       "      <td>0.000000</td>\n",
       "      <td>0.039010</td>\n",
       "    </tr>\n",
       "    <tr>\n",
       "      <th>3</th>\n",
       "      <td>[CLS] Transport vazirligi epidemiologik vaziya...</td>\n",
       "      <td>Toshkentda yo‘lovchilarga jamoat transportidan...</td>\n",
       "      <td>0.028571</td>\n",
       "      <td>0.008065</td>\n",
       "      <td>0.666667</td>\n",
       "      <td>0.000000</td>\n",
       "      <td>0.026868</td>\n",
       "    </tr>\n",
       "    <tr>\n",
       "      <th>4</th>\n",
       "      <td>[CLS] Sog‘liqni saqlash vazirligi COVID-19 kor...</td>\n",
       "      <td>SSV: Koronavirusga chalingan bemorlarni davo s...</td>\n",
       "      <td>0.057143</td>\n",
       "      <td>0.008065</td>\n",
       "      <td>0.666667</td>\n",
       "      <td>0.000000</td>\n",
       "      <td>0.027063</td>\n",
       "    </tr>\n",
       "    <tr>\n",
       "      <th>...</th>\n",
       "      <td>...</td>\n",
       "      <td>...</td>\n",
       "      <td>...</td>\n",
       "      <td>...</td>\n",
       "      <td>...</td>\n",
       "      <td>...</td>\n",
       "      <td>...</td>\n",
       "    </tr>\n",
       "    <tr>\n",
       "      <th>9920</th>\n",
       "      <td>[CLS] Германия канцлери Ангела Меркелнинг таък...</td>\n",
       "      <td>Меркель Европа мамлакатларини “уйғонишга” чақирди</td>\n",
       "      <td>0.052632</td>\n",
       "      <td>0.020000</td>\n",
       "      <td>0.833333</td>\n",
       "      <td>0.100000</td>\n",
       "      <td>0.030054</td>\n",
       "    </tr>\n",
       "    <tr>\n",
       "      <th>9921</th>\n",
       "      <td>[CLS] Шу кунларда ИИВнинг “босар-тусарини билм...</td>\n",
       "      <td>Депутат: “Айрим ОАВлар наманганлик депутат воқ...</td>\n",
       "      <td>0.052632</td>\n",
       "      <td>0.020000</td>\n",
       "      <td>0.000000</td>\n",
       "      <td>0.200000</td>\n",
       "      <td>0.069785</td>\n",
       "    </tr>\n",
       "    <tr>\n",
       "      <th>9922</th>\n",
       "      <td>[CLS] Дунё бўйлаб коронавирусга чалинганлар 80...</td>\n",
       "      <td>Коронавирусга чалинганлар 800 000 дан ошди</td>\n",
       "      <td>0.315789</td>\n",
       "      <td>0.020000</td>\n",
       "      <td>0.166667</td>\n",
       "      <td>0.000000</td>\n",
       "      <td>0.043981</td>\n",
       "    </tr>\n",
       "    <tr>\n",
       "      <th>9923</th>\n",
       "      <td>[CLS] Аввалроқ, Хоразм вилоятида янги ташкил э...</td>\n",
       "      <td>Тупроққалъа тумани “тўртлиги” тайинланди</td>\n",
       "      <td>0.052632</td>\n",
       "      <td>0.040000</td>\n",
       "      <td>0.000000</td>\n",
       "      <td>0.000000</td>\n",
       "      <td>0.023006</td>\n",
       "    </tr>\n",
       "    <tr>\n",
       "      <th>9924</th>\n",
       "      <td>[CLS] Эришилган натижалар тиббиётимизнинг ютуғ...</td>\n",
       "      <td>Туркияда вазият оғир. Мамлакат коронавирус ани...</td>\n",
       "      <td>0.157895</td>\n",
       "      <td>0.060000</td>\n",
       "      <td>0.000000</td>\n",
       "      <td>0.000000</td>\n",
       "      <td>0.110581</td>\n",
       "    </tr>\n",
       "  </tbody>\n",
       "</table>\n",
       "<p>24707 rows × 7 columns</p>\n",
       "</div>"
      ],
      "text/plain": [
       "                                                 text_a  \\\n",
       "0     [CLS] Microsoft kompaniyasi asoschisi Bill Gey...   \n",
       "1     [CLS] Sog‘liqni saqlash vazirining tegishli bu...   \n",
       "2     [CLS] Forbes Uzbekistan o‘z faoliyatini to‘xta...   \n",
       "3     [CLS] Transport vazirligi epidemiologik vaziya...   \n",
       "4     [CLS] Sog‘liqni saqlash vazirligi COVID-19 kor...   \n",
       "...                                                 ...   \n",
       "9920  [CLS] Германия канцлери Ангела Меркелнинг таък...   \n",
       "9921  [CLS] Шу кунларда ИИВнинг “босар-тусарини билм...   \n",
       "9922  [CLS] Дунё бўйлаб коронавирусга чалинганлар 80...   \n",
       "9923  [CLS] Аввалроқ, Хоразм вилоятида янги ташкил э...   \n",
       "9924  [CLS] Эришилган натижалар тиббиётимизнинг ютуғ...   \n",
       "\n",
       "                                                 text_b    text_c    text_d  \\\n",
       "0     Bill Geyts koronavirus bilan bog‘liq vaziyat y...  0.042857  0.008065   \n",
       "1     Respublika akusherlik va ginekologiya markazig...  0.057143  0.008065   \n",
       "2           Forbes Uzbekistan o‘z faoliyatini to‘xtatdi  0.057143  0.008065   \n",
       "3     Toshkentda yo‘lovchilarga jamoat transportidan...  0.028571  0.008065   \n",
       "4     SSV: Koronavirusga chalingan bemorlarni davo s...  0.057143  0.008065   \n",
       "...                                                 ...       ...       ...   \n",
       "9920  Меркель Европа мамлакатларини “уйғонишга” чақирди  0.052632  0.020000   \n",
       "9921  Депутат: “Айрим ОАВлар наманганлик депутат воқ...  0.052632  0.020000   \n",
       "9922         Коронавирусга чалинганлар 800 000 дан ошди  0.315789  0.020000   \n",
       "9923           Тупроққалъа тумани “тўртлиги” тайинланди  0.052632  0.040000   \n",
       "9924  Туркияда вазият оғир. Мамлакат коронавирус ани...  0.157895  0.060000   \n",
       "\n",
       "        text_e    text_f    labels  \n",
       "0     0.666667  0.111111  0.025070  \n",
       "1     0.666667  0.000000  0.031297  \n",
       "2     0.666667  0.000000  0.039010  \n",
       "3     0.666667  0.000000  0.026868  \n",
       "4     0.666667  0.000000  0.027063  \n",
       "...        ...       ...       ...  \n",
       "9920  0.833333  0.100000  0.030054  \n",
       "9921  0.000000  0.200000  0.069785  \n",
       "9922  0.166667  0.000000  0.043981  \n",
       "9923  0.000000  0.000000  0.023006  \n",
       "9924  0.000000  0.000000  0.110581  \n",
       "\n",
       "[24707 rows x 7 columns]"
      ]
     },
     "execution_count": 14,
     "metadata": {},
     "output_type": "execute_result"
    }
   ],
   "source": [
    "# train_df.sort_values(by=['labels'], ascending=False)\n",
    "# train_df['labels'].mean()\n",
    "#train_df.to_json('output_raw.jsonl', orient='records', lines=True)\n",
    "train_df\n",
    "features = ['content', 'title', 'num_links', 'num_images', 'day_of_week', 'num_quotes', 'label']"
   ]
  },
  {
   "cell_type": "code",
   "execution_count": 24,
   "metadata": {},
   "outputs": [],
   "source": [
    "from sklearn.model_selection import train_test_split\n",
    "train_df = train_df.sample(frac=1)\n",
    "train, test = train_test_split(train_df, test_size=0.2)"
   ]
  },
  {
   "cell_type": "code",
   "execution_count": 25,
   "metadata": {},
   "outputs": [
    {
     "data": {
      "text/html": [
       "\n",
       "                Logging results to <a href=\"https://wandb.com\" target=\"_blank\">Weights & Biases</a> <a href=\"https://docs.wandb.com/integrations/jupyter.html\" target=\"_blank\">(Documentation)</a>.<br/>\n",
       "                Project page: <a href=\"https://app.wandb.ai/amhr-gci/duvduvgap\" target=\"_blank\">https://app.wandb.ai/amhr-gci/duvduvgap</a><br/>\n",
       "                Run page: <a href=\"https://app.wandb.ai/amhr-gci/duvduvgap/runs/4smhjpvc\" target=\"_blank\">https://app.wandb.ai/amhr-gci/duvduvgap/runs/4smhjpvc</a><br/>\n",
       "            "
      ],
      "text/plain": [
       "<IPython.core.display.HTML object>"
      ]
     },
     "metadata": {},
     "output_type": "display_data"
    },
    {
     "name": "stderr",
     "output_type": "stream",
     "text": [
      "\u001b[34m\u001b[1mwandb\u001b[0m: Wandb version 0.10.7 is available!  To upgrade, please run:\n",
      "\u001b[34m\u001b[1mwandb\u001b[0m:  $ pip install wandb --upgrade\n",
      "Some weights of the model checkpoint at roberta-large were not used when initializing RobertaForSequenceClassification: ['lm_head.bias', 'lm_head.dense.weight', 'lm_head.dense.bias', 'lm_head.layer_norm.weight', 'lm_head.layer_norm.bias', 'lm_head.decoder.weight']\n",
      "- This IS expected if you are initializing RobertaForSequenceClassification from the checkpoint of a model trained on another task or with another architecture (e.g. initializing a BertForSequenceClassification model from a BertForPretraining model).\n",
      "- This IS NOT expected if you are initializing RobertaForSequenceClassification from the checkpoint of a model that you expect to be exactly identical (initializing a BertForSequenceClassification model from a BertForSequenceClassification model).\n",
      "Some weights of RobertaForSequenceClassification were not initialized from the model checkpoint at roberta-large and are newly initialized: ['classifier.dense.weight', 'classifier.dense.bias', 'classifier.out_proj.weight', 'classifier.out_proj.bias']\n",
      "You should probably TRAIN this model on a down-stream task to be able to use it for predictions and inference.\n"
     ]
    },
    {
     "data": {
      "application/vnd.jupyter.widget-view+json": {
       "model_id": "aa313786a13a4b6cb7beec5adb1135f0",
       "version_major": 2,
       "version_minor": 0
      },
      "text/plain": [
       "HBox(children=(FloatProgress(value=0.0, max=19765.0), HTML(value='')))"
      ]
     },
     "metadata": {},
     "output_type": "display_data"
    },
    {
     "name": "stdout",
     "output_type": "stream",
     "text": [
      "\n"
     ]
    },
    {
     "data": {
      "application/vnd.jupyter.widget-view+json": {
       "model_id": "e18aa107add0497b85c3d06530815427",
       "version_major": 2,
       "version_minor": 0
      },
      "text/plain": [
       "HBox(children=(FloatProgress(value=0.0, description='Epoch', max=1.0, style=ProgressStyle(description_width='i…"
      ]
     },
     "metadata": {},
     "output_type": "display_data"
    },
    {
     "data": {
      "application/vnd.jupyter.widget-view+json": {
       "model_id": "21c38595e8c84405a06c51c679de8589",
       "version_major": 2,
       "version_minor": 0
      },
      "text/plain": [
       "HBox(children=(FloatProgress(value=0.0, description='Running Epoch 0 of 1', max=618.0, style=ProgressStyle(des…"
      ]
     },
     "metadata": {},
     "output_type": "display_data"
    },
    {
     "name": "stdout",
     "output_type": "stream",
     "text": [
      "\n",
      "\n"
     ]
    }
   ],
   "source": [
    "hyperparameter_defaults = dict(\n",
    "    bs = 32,\n",
    "    lr = 4e-5,\n",
    "    epochs = 1,\n",
    "    sequence_length = 512,\n",
    ")\n",
    "\n",
    "wandb.init(config= hyperparameter_defaults,project=\"duvduvgap\")\n",
    "config = wandb.config\n",
    "wandb.config.experiment = \"roberta\"\n",
    "\n",
    "train_args={\n",
    "    \"output_dir\": \"outputs/roberta\",\n",
    "    \"cache_dir\": \"cache/\",\n",
    "    \"best_model_dir\": \"outputs/best_model/roberta\",\n",
    "    'reprocess_input_data': True,\n",
    "    'overwrite_output_dir': True,\n",
    "    'num_train_epochs': config.epochs,\n",
    "    'regression': True,\n",
    "    'max_seq_length': config.sequence_length,\n",
    "    'n_gpu': 3,\n",
    "    \"learning_rate\": config.lr,\n",
    "    \"train_batch_size\": config.bs,\n",
    "    \"eval_batch_size\": config.bs,\n",
    "}\n",
    "\n",
    "# Create a ClassificationModel\n",
    "model = ClassificationModel(\"roberta\", \"roberta-large\", num_labels=1, use_cuda=True, args=train_args)\n",
    "\n",
    "# Train the model\n",
    "model.train_model(train)"
   ]
  },
  {
   "cell_type": "code",
   "execution_count": 26,
   "metadata": {},
   "outputs": [
    {
     "data": {
      "application/vnd.jupyter.widget-view+json": {
       "model_id": "61a0a35224b94f10b4385816abd38af9",
       "version_major": 2,
       "version_minor": 0
      },
      "text/plain": [
       "HBox(children=(FloatProgress(value=0.0, max=4942.0), HTML(value='')))"
      ]
     },
     "metadata": {},
     "output_type": "display_data"
    },
    {
     "name": "stdout",
     "output_type": "stream",
     "text": [
      "\n"
     ]
    },
    {
     "data": {
      "application/vnd.jupyter.widget-view+json": {
       "model_id": "7765a6a36331446fa71f1649fc77ef3c",
       "version_major": 2,
       "version_minor": 0
      },
      "text/plain": [
       "HBox(children=(FloatProgress(value=0.0, description='Running Evaluation', max=155.0, style=ProgressStyle(descr…"
      ]
     },
     "metadata": {},
     "output_type": "display_data"
    },
    {
     "name": "stdout",
     "output_type": "stream",
     "text": [
      "\n"
     ]
    }
   ],
   "source": [
    "result, model_outputs, wrong_predictions = model.eval_model(test)\n",
    "test.insert(len(test.columns), \"prediction\", model_outputs, True) \n",
    "test = test.sort_values(by=['prediction'], ascending=False)"
   ]
  },
  {
   "cell_type": "code",
   "execution_count": 28,
   "metadata": {},
   "outputs": [
    {
     "name": "stdout",
     "output_type": "stream",
     "text": [
      "{'eval_loss': 0.004227833283103762}\n"
     ]
    }
   ],
   "source": [
    "print(result)"
   ]
  },
  {
   "cell_type": "code",
   "execution_count": 29,
   "metadata": {},
   "outputs": [],
   "source": [
    "def analysis(data):\n",
    "    print(f\"Correlation between labels and predictions: {stats.pearsonr(data['labels'], data['prediction'])}\\n\")\n",
    "    print(f\"Number of links and predictions: {stats.pearsonr(data['text_c'], data['prediction'])}\\n\")\n",
    "    print(f\"Number of images and predictions: {stats.pearsonr(data['text_d'], data['prediction'])}\\n\")\n",
    "    print(f\"Day of the week and predictions: {stats.pearsonr(data['text_e'], data['prediction'])}\\n\")\n",
    "    print(f\"Number of quotes and predictions: {stats.pearsonr(data['text_f'], data['prediction'])}\\n\")\n"
   ]
  },
  {
   "cell_type": "code",
   "execution_count": 30,
   "metadata": {},
   "outputs": [
    {
     "name": "stdout",
     "output_type": "stream",
     "text": [
      "Correlation between labels and predictions: (-0.014369583856630508, 0.31251007056521707)\n",
      "\n",
      "Number of links and predictions: (0.026002031036423685, 0.06758366497971811)\n",
      "\n",
      "Number of images and predictions: (0.056583262387460705, 6.892989585565515e-05)\n",
      "\n",
      "Day of the week and predictions: (-0.010658954945727031, 0.45376713957654535)\n",
      "\n",
      "Number of quotes and predictions: (0.05961313989492446, 2.7476186087366805e-05)\n",
      "\n"
     ]
    }
   ],
   "source": [
    "analysis(test)"
   ]
  },
  {
   "cell_type": "code",
   "execution_count": null,
   "metadata": {},
   "outputs": [],
   "source": []
  }
 ],
 "metadata": {
  "kernelspec": {
   "display_name": "Python 3",
   "language": "python",
   "name": "python3"
  },
  "language_info": {
   "codemirror_mode": {
    "name": "ipython",
    "version": 3
   },
   "file_extension": ".py",
   "mimetype": "text/x-python",
   "name": "python",
   "nbconvert_exporter": "python",
   "pygments_lexer": "ipython3",
   "version": "3.8.3"
  }
 },
 "nbformat": 4,
 "nbformat_minor": 4
}
