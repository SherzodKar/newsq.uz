{
 "cells": [
  {
   "cell_type": "code",
   "execution_count": 1,
   "metadata": {},
   "outputs": [],
   "source": [
    "from simpletransformers.classification import ClassificationModel\n",
    "import numpy as np\n",
    "import pandas as pd\n",
    "from sklearn import preprocessing\n",
    "from scipy import stats\n",
    "import wandb\n"
   ]
  },
  {
   "cell_type": "code",
   "execution_count": 2,
   "metadata": {},
   "outputs": [],
   "source": [
    "#subscribers data\n",
    "daryo_n = [597660, 635395, 876932, 944683, 970976, 974959, 1001620, 987818, 955630, 930500]\n",
    "kun_n = [866120, 897421, 1234502, 1327874, 1400304, 1419048, 1468400, 1467269, 1487835, 1533702]\n",
    "qalampir_n = [84189, 91990, 132252, 141007, 162540, 167763, 182913, 186740, 185759, 183327]\n",
    "\n",
    "view_period=7 # days "
   ]
  },
  {
   "cell_type": "code",
   "execution_count": 3,
   "metadata": {},
   "outputs": [],
   "source": [
    "def create_fields(data, source):\n",
    "    dates = pd.DatetimeIndex(data['date'])\n",
    "    n_views = data['num_views'].values\n",
    "\n",
    "    labels = []\n",
    "    day_of_week = []\n",
    "    for i in range(0, len(dates)):\n",
    "\n",
    "        daily_rate = n_views[i]/view_period\n",
    "        average_daily_rate = int(source[dates.month[i]-1]/100) # scaling down it a bit\n",
    "\n",
    "        labels.append(daily_rate/average_daily_rate)\n",
    "        day_of_week.append(dates[i].dayofweek)\n",
    "    \n",
    "    return labels, day_of_week"
   ]
  },
  {
   "cell_type": "code",
   "execution_count": 22,
   "metadata": {},
   "outputs": [],
   "source": [
    "daryo = pd.read_json(\"daryo_articles.jsonl\", orient='columns', lines=False)\n",
    "kun = pd.read_json(\"kun_articles.jsonl\", orient='columns', lines=True)\n",
    "qalampir = pd.read_json(\"qalampir_articles.jsonl\", orient='columns', lines=True)\n",
    "\n",
    "labels, day_of_week = create_fields(daryo, daryo_n)\n",
    "    \n",
    "daryo.insert(len(daryo.columns), \"labels\", labels, True) \n",
    "daryo.insert(len(daryo.columns)-1, \"day_of_week\", day_of_week, True)\n",
    "daryo.insert(2, \"source\", len(daryo)*[1], True) \n",
    "\n",
    "labels, day_of_week = create_fields(kun, kun_n)\n",
    "    \n",
    "kun.insert(len(kun.columns), \"labels\", labels, True) \n",
    "kun.insert(len(kun.columns)-1, \"day_of_week\", day_of_week, True)\n",
    "kun.insert(2, \"source\", len(kun)*[2], True) \n",
    "\n",
    "labels, day_of_week = create_fields(qalampir, qalampir_n)\n",
    "    \n",
    "qalampir.insert(len(qalampir.columns), \"labels\", labels, True) \n",
    "qalampir.insert(len(qalampir.columns)-1, \"day_of_week\", day_of_week, True)\n",
    "qalampir.insert(2, \"source\", len(qalampir)*[3], True) \n"
   ]
  },
  {
   "cell_type": "code",
   "execution_count": 23,
   "metadata": {},
   "outputs": [],
   "source": [
    "# output[0:100].to_json('output.jsonl', orient='records', lines=True)"
   ]
  },
  {
   "cell_type": "code",
   "execution_count": 24,
   "metadata": {},
   "outputs": [],
   "source": [
    "def _format(data):\n",
    "    return pd.DataFrame({\n",
    "        'text_a': '[CLS] ' + data['content'],\n",
    "        'text_b': data['title'],\n",
    "        'text_c': data['num_links'],\n",
    "        'text_d': data['num_images'],\n",
    "        'text_e': data['day_of_week'],\n",
    "        'text_f': data['num_quotes'],\n",
    "        'labels': data['labels']\n",
    "    })"
   ]
  },
  {
   "cell_type": "code",
   "execution_count": 25,
   "metadata": {},
   "outputs": [],
   "source": [
    "def scale(train_df, column):\n",
    "    return (train_df[column]-train_df[column].min())/(train_df[column].max()-train_df[column].min())\n"
   ]
  },
  {
   "cell_type": "code",
   "execution_count": 26,
   "metadata": {},
   "outputs": [],
   "source": [
    "# scale it\n",
    "def scale_fields(train_df):\n",
    "    train_df['text_c'] = scale(train_df, 'text_c')\n",
    "    train_df['text_d'] = scale(train_df, 'text_d')\n",
    "    train_df['text_e'] = scale(train_df, 'text_e')\n",
    "    train_df['text_f'] = scale(train_df, 'text_f')\n",
    "    train_df['labels'] = scale(train_df, 'labels')\n",
    "    return train_df\n",
    "\n"
   ]
  },
  {
   "cell_type": "code",
   "execution_count": 27,
   "metadata": {},
   "outputs": [],
   "source": [
    "daryo = scale_fields(_format(daryo))\n",
    "kun = scale_fields(_format(kun))\n",
    "qalampir = scale_fields(_format(qalampir))\n",
    "\n",
    "train_df = [daryo, kun, qalampir]\n",
    "train_df = pd.concat(train_df)"
   ]
  },
  {
   "cell_type": "code",
   "execution_count": 28,
   "metadata": {},
   "outputs": [],
   "source": [
    "# train_df.sort_values(by=['labels'], ascending=False)\n",
    "# train_df['labels'].mean()"
   ]
  },
  {
   "cell_type": "code",
   "execution_count": 29,
   "metadata": {},
   "outputs": [],
   "source": [
    "from sklearn.model_selection import train_test_split\n",
    "train_df = train_df.sample(frac=1)\n",
    "train, test = train_test_split(train_df, test_size=0.2)"
   ]
  },
  {
   "cell_type": "code",
   "execution_count": 30,
   "metadata": {},
   "outputs": [
    {
     "data": {
      "text/html": [
       "\n",
       "                Logging results to <a href=\"https://wandb.com\" target=\"_blank\">Weights & Biases</a> <a href=\"https://docs.wandb.com/integrations/jupyter.html\" target=\"_blank\">(Documentation)</a>.<br/>\n",
       "                Project page: <a href=\"https://app.wandb.ai/amhr-gci/duvduvgap\" target=\"_blank\">https://app.wandb.ai/amhr-gci/duvduvgap</a><br/>\n",
       "                Run page: <a href=\"https://app.wandb.ai/amhr-gci/duvduvgap/runs/1mdq8e94\" target=\"_blank\">https://app.wandb.ai/amhr-gci/duvduvgap/runs/1mdq8e94</a><br/>\n",
       "            "
      ],
      "text/plain": [
       "<IPython.core.display.HTML object>"
      ]
     },
     "metadata": {},
     "output_type": "display_data"
    },
    {
     "name": "stderr",
     "output_type": "stream",
     "text": [
      "\u001b[34m\u001b[1mwandb\u001b[0m: Wandb version 0.10.7 is available!  To upgrade, please run:\n",
      "\u001b[34m\u001b[1mwandb\u001b[0m:  $ pip install wandb --upgrade\n",
      "Some weights of the model checkpoint at allenai/longformer-base-4096 were not used when initializing LongformerForSequenceClassification: ['lm_head.bias', 'lm_head.dense.weight', 'lm_head.dense.bias', 'lm_head.layer_norm.weight', 'lm_head.layer_norm.bias', 'lm_head.decoder.weight']\n",
      "- This IS expected if you are initializing LongformerForSequenceClassification from the checkpoint of a model trained on another task or with another architecture (e.g. initializing a BertForSequenceClassification model from a BertForPretraining model).\n",
      "- This IS NOT expected if you are initializing LongformerForSequenceClassification from the checkpoint of a model that you expect to be exactly identical (initializing a BertForSequenceClassification model from a BertForSequenceClassification model).\n",
      "Some weights of LongformerForSequenceClassification were not initialized from the model checkpoint at allenai/longformer-base-4096 and are newly initialized: ['classifier.dense.weight', 'classifier.dense.bias', 'classifier.out_proj.weight', 'classifier.out_proj.bias']\n",
      "You should probably TRAIN this model on a down-stream task to be able to use it for predictions and inference.\n"
     ]
    },
    {
     "data": {
      "application/vnd.jupyter.widget-view+json": {
       "model_id": "a16a82ace72b4a7ba74aab280629af18",
       "version_major": 2,
       "version_minor": 0
      },
      "text/plain": [
       "HBox(children=(FloatProgress(value=0.0, max=19765.0), HTML(value='')))"
      ]
     },
     "metadata": {},
     "output_type": "display_data"
    },
    {
     "name": "stdout",
     "output_type": "stream",
     "text": [
      "\n"
     ]
    },
    {
     "data": {
      "application/vnd.jupyter.widget-view+json": {
       "model_id": "9b782a41329a4920ad8ca77021d45084",
       "version_major": 2,
       "version_minor": 0
      },
      "text/plain": [
       "HBox(children=(FloatProgress(value=0.0, description='Epoch', max=1.0, style=ProgressStyle(description_width='i…"
      ]
     },
     "metadata": {},
     "output_type": "display_data"
    },
    {
     "data": {
      "application/vnd.jupyter.widget-view+json": {
       "model_id": "78e4a5f7a51840bda4e235bae4f0413e",
       "version_major": 2,
       "version_minor": 0
      },
      "text/plain": [
       "HBox(children=(FloatProgress(value=0.0, description='Running Epoch 0 of 1', max=618.0, style=ProgressStyle(des…"
      ]
     },
     "metadata": {},
     "output_type": "display_data"
    },
    {
     "name": "stdout",
     "output_type": "stream",
     "text": [
      "\n",
      "\n"
     ]
    }
   ],
   "source": [
    "hyperparameter_defaults = dict(\n",
    "    bs = 32,\n",
    "    lr = 4e-5,\n",
    "    epochs = 1,\n",
    "    sequence_length = 1024,\n",
    ")\n",
    "\n",
    "wandb.init(config= hyperparameter_defaults,project=\"duvduvgap\")\n",
    "config = wandb.config\n",
    "wandb.config.experiment = \"longformer\"\n",
    "\n",
    "train_args={\n",
    "    'reprocess_input_data': True,\n",
    "    'overwrite_output_dir': True,\n",
    "    'num_train_epochs': config.epochs,\n",
    "    'regression': True,\n",
    "    'max_seq_length': config.sequence_length,\n",
    "    'n_gpu': 3,\n",
    "    \"learning_rate\": config.lr,\n",
    "    \"train_batch_size\": config.bs,\n",
    "    \"eval_batch_size\": config.bs,\n",
    "}\n",
    "\n",
    "# Create a ClassificationModel\n",
    "model = ClassificationModel(\"longformer\", \"allenai/longformer-base-4096\", num_labels=1, use_cuda=True, args=train_args)\n",
    "\n",
    "# Train the model\n",
    "model.train_model(train)"
   ]
  },
  {
   "cell_type": "code",
   "execution_count": 31,
   "metadata": {},
   "outputs": [
    {
     "data": {
      "application/vnd.jupyter.widget-view+json": {
       "model_id": "fb7cf234649c42018d78796709d60190",
       "version_major": 2,
       "version_minor": 0
      },
      "text/plain": [
       "HBox(children=(FloatProgress(value=0.0, max=4942.0), HTML(value='')))"
      ]
     },
     "metadata": {},
     "output_type": "display_data"
    },
    {
     "name": "stdout",
     "output_type": "stream",
     "text": [
      "\n"
     ]
    },
    {
     "data": {
      "application/vnd.jupyter.widget-view+json": {
       "model_id": "1fc610e44c1c4c7eafce548f2129c9c6",
       "version_major": 2,
       "version_minor": 0
      },
      "text/plain": [
       "HBox(children=(FloatProgress(value=0.0, description='Running Evaluation', max=155.0, style=ProgressStyle(descr…"
      ]
     },
     "metadata": {},
     "output_type": "display_data"
    },
    {
     "name": "stdout",
     "output_type": "stream",
     "text": [
      "\n"
     ]
    }
   ],
   "source": [
    "result, model_outputs, wrong_predictions = model.eval_model(test)\n",
    "test.insert(len(test.columns), \"prediction\", model_outputs, True) \n",
    "test = test.sort_values(by=['prediction'], ascending=False)"
   ]
  },
  {
   "cell_type": "code",
   "execution_count": 32,
   "metadata": {},
   "outputs": [
    {
     "name": "stdout",
     "output_type": "stream",
     "text": [
      "{'eval_loss': 0.0047967177834512004}\n",
      "0.05860306\n"
     ]
    }
   ],
   "source": [
    "print(result)\n",
    "print(min(model_outputs))"
   ]
  },
  {
   "cell_type": "code",
   "execution_count": 33,
   "metadata": {},
   "outputs": [],
   "source": [
    "def analysis(data):\n",
    "    print(f\"Correlation between labels and predictions: {stats.pearsonr(data['labels'], data['prediction'])}\\n\")\n",
    "    print(f\"Number of links and predictions: {stats.pearsonr(data['text_c'], data['prediction'])}\\n\")\n",
    "    print(f\"Number of images and predictions: {stats.pearsonr(data['text_d'], data['prediction'])}\\n\")\n",
    "    print(f\"Day of the week and predictions: {stats.pearsonr(data['text_e'], data['prediction'])}\\n\")\n",
    "    print(f\"Number of quotes and predictions: {stats.pearsonr(data['text_f'], data['prediction'])}\\n\")\n"
   ]
  },
  {
   "cell_type": "code",
   "execution_count": 34,
   "metadata": {},
   "outputs": [
    {
     "name": "stdout",
     "output_type": "stream",
     "text": [
      "Correlation between labels and predictions: (0.12620413484659374, 5.316862134224309e-19)\n",
      "\n",
      "Number of links and predictions: (0.027718369549795317, 0.05135934146597337)\n",
      "\n",
      "Number of images and predictions: (-0.094203862852062, 3.232812922051197e-11)\n",
      "\n",
      "Day of the week and predictions: (0.005186818102421701, 0.7154546559242575)\n",
      "\n",
      "Number of quotes and predictions: (-0.15638327079423117, 1.9837009945094355e-28)\n",
      "\n"
     ]
    }
   ],
   "source": [
    "analysis(test)"
   ]
  },
  {
   "cell_type": "code",
   "execution_count": null,
   "metadata": {},
   "outputs": [],
   "source": []
  }
 ],
 "metadata": {
  "kernelspec": {
   "display_name": "Python 3",
   "language": "python",
   "name": "python3"
  },
  "language_info": {
   "codemirror_mode": {
    "name": "ipython",
    "version": 3
   },
   "file_extension": ".py",
   "mimetype": "text/x-python",
   "name": "python",
   "nbconvert_exporter": "python",
   "pygments_lexer": "ipython3",
   "version": "3.8.3"
  }
 },
 "nbformat": 4,
 "nbformat_minor": 4
}
