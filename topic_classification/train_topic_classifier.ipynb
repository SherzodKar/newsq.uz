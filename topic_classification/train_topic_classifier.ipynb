{
 "cells": [
  {
   "cell_type": "code",
   "execution_count": 28,
   "metadata": {},
   "outputs": [],
   "source": [
    "import pandas as pd\n",
    "from simpletransformers.classification import ClassificationModel\n",
    "import sklearn\n",
    "from sklearn.model_selection import train_test_split\n",
    "\n",
    "# read the input files\n",
    "df = pd.read_json(\"classification_train.jsonl\", lines=True)\n",
    "test = pd.read_json(\"classification_test.jsonl\", lines=True)"
   ]
  },
  {
   "cell_type": "code",
   "execution_count": 29,
   "metadata": {},
   "outputs": [],
   "source": [
    "# translation -> English ['Sport', 'World', 'Culture', 'Technology', 'Local']\n",
    "labels = ['Sport', 'Dunyo', 'Madaniyat', 'Texnologiyalar', 'Mahalliy']"
   ]
  },
  {
   "cell_type": "code",
   "execution_count": 30,
   "metadata": {},
   "outputs": [
    {
     "name": "stderr",
     "output_type": "stream",
     "text": [
      "<ipython-input-30-0cf17a7e1dab>:2: SettingWithCopyWarning: \n",
      "A value is trying to be set on a copy of a slice from a DataFrame\n",
      "\n",
      "See the caveats in the documentation: https://pandas.pydata.org/pandas-docs/stable/user_guide/indexing.html#returning-a-view-versus-a-copy\n",
      "  df['category'][index] = int(labels.index(df['category'][index]))\n",
      "<ipython-input-30-0cf17a7e1dab>:5: SettingWithCopyWarning: \n",
      "A value is trying to be set on a copy of a slice from a DataFrame\n",
      "\n",
      "See the caveats in the documentation: https://pandas.pydata.org/pandas-docs/stable/user_guide/indexing.html#returning-a-view-versus-a-copy\n",
      "  test['category'][index] = int(labels.index(test['category'][index]))\n"
     ]
    }
   ],
   "source": [
    "for index, row in df.iterrows():\n",
    "    df['category'][index] = int(labels.index(df['category'][index]))\n",
    "    \n",
    "for index, row in test.iterrows():\n",
    "    test['category'][index] = int(labels.index(test['category'][index]))"
   ]
  },
  {
   "cell_type": "code",
   "execution_count": 31,
   "metadata": {},
   "outputs": [
    {
     "data": {
      "text/html": [
       "<div>\n",
       "<style scoped>\n",
       "    .dataframe tbody tr th:only-of-type {\n",
       "        vertical-align: middle;\n",
       "    }\n",
       "\n",
       "    .dataframe tbody tr th {\n",
       "        vertical-align: top;\n",
       "    }\n",
       "\n",
       "    .dataframe thead th {\n",
       "        text-align: right;\n",
       "    }\n",
       "</style>\n",
       "<table border=\"1\" class=\"dataframe\">\n",
       "  <thead>\n",
       "    <tr style=\"text-align: right;\">\n",
       "      <th></th>\n",
       "      <th>content</th>\n",
       "      <th>category</th>\n",
       "      <th>title</th>\n",
       "      <th>date</th>\n",
       "      <th>url</th>\n",
       "    </tr>\n",
       "  </thead>\n",
       "  <tbody>\n",
       "    <tr>\n",
       "      <th>0</th>\n",
       "      <td>“Odnoklassniki” ijtimoiy tarmog‘i Smart TV uch...</td>\n",
       "      <td>3</td>\n",
       "      <td>“Odnoklassniki” Smart TV uchun dastur chiqardi</td>\n",
       "      <td>2016-02-23</td>\n",
       "      <td>https://daryo.uz/2016/02/23/odnoklassniki-smar...</td>\n",
       "    </tr>\n",
       "    <tr>\n",
       "      <th>1</th>\n",
       "      <td>2015-yilda o‘zining dastlabki konsert dasturin...</td>\n",
       "      <td>2</td>\n",
       "      <td>Farhod va Shirin dueti keyingi konsertida “hec...</td>\n",
       "      <td>2016-01-17</td>\n",
       "      <td>https://daryo.uz/2016/01/17/farhod-va-shirin-d...</td>\n",
       "    </tr>\n",
       "    <tr>\n",
       "      <th>2</th>\n",
       "      <td>Rossiya chempionatining 18-turida hamyurtimiz ...</td>\n",
       "      <td>0</td>\n",
       "      <td>“Krasnodar” “Spartak”ni mag‘lub etgan o‘yinda ...</td>\n",
       "      <td>2015-03-09</td>\n",
       "      <td>https://daryo.uz/2015/03/09/krasnodar-spartakn...</td>\n",
       "    </tr>\n",
       "    <tr>\n",
       "      <th>3</th>\n",
       "      <td>Joriy yilda onalik baxtiga musharraf bo‘lgan x...</td>\n",
       "      <td>2</td>\n",
       "      <td>Rayhon egizak bolakaylar ishtirokidagi klipini...</td>\n",
       "      <td>2014-06-11</td>\n",
       "      <td>https://daryo.uz/2014/06/11/rayhon-egizak-bola...</td>\n",
       "    </tr>\n",
       "    <tr>\n",
       "      <th>4</th>\n",
       "      <td>Rossiya prezidenti Vladimir Putin topshirig‘i ...</td>\n",
       "      <td>3</td>\n",
       "      <td>Putin topshirig‘iga ko‘ra tuzilgan Rossiyada t...</td>\n",
       "      <td>2016-06-22</td>\n",
       "      <td>https://daryo.uz/2016/06/22/putin-topshirigiga...</td>\n",
       "    </tr>\n",
       "    <tr>\n",
       "      <th>...</th>\n",
       "      <td>...</td>\n",
       "      <td>...</td>\n",
       "      <td>...</td>\n",
       "      <td>...</td>\n",
       "      <td>...</td>\n",
       "    </tr>\n",
       "    <tr>\n",
       "      <th>2495</th>\n",
       "      <td>Belgiya bosh vaziri Sharl Mishel marafonga sta...</td>\n",
       "      <td>1</td>\n",
       "      <td>Belgiya malikasi to‘pponchadan o‘q uzib, bosh ...</td>\n",
       "      <td>2017-05-30</td>\n",
       "      <td>https://daryo.uz/2017/05/30/belgiya-malikasi-t...</td>\n",
       "    </tr>\n",
       "    <tr>\n",
       "      <th>2496</th>\n",
       "      <td>Estradamizning yorqin yulduzi Shahzodaning 15 ...</td>\n",
       "      <td>2</td>\n",
       "      <td>Rossiyaning “Muz-TV” kanali bosh direktori Sha...</td>\n",
       "      <td>2015-05-11</td>\n",
       "      <td>https://daryo.uz/2015/05/11/rossiyaning-muz-tv...</td>\n",
       "    </tr>\n",
       "    <tr>\n",
       "      <th>2497</th>\n",
       "      <td>MDHga a’zo mamlakatlarning Mudofaa vazirlari k...</td>\n",
       "      <td>4</td>\n",
       "      <td>O‘zbekistonda havo sarhadlarining himoya tizim...</td>\n",
       "      <td>2018-04-19</td>\n",
       "      <td>https://daryo.uz/2018/04/19/ozbekistonda-havo-...</td>\n",
       "    </tr>\n",
       "    <tr>\n",
       "      <th>2498</th>\n",
       "      <td>Kecha, 21-sentabr sanasida “Sassuolo”—“Empoli”...</td>\n",
       "      <td>0</td>\n",
       "      <td>A Seriya. “Inter M” bugun o‘ynaydi, “Milan”, “...</td>\n",
       "      <td>2018-09-22</td>\n",
       "      <td>https://daryo.uz/2018/09/22/seriya-inter-m-bug...</td>\n",
       "    </tr>\n",
       "    <tr>\n",
       "      <th>2499</th>\n",
       "      <td>Aktrisa Shahlo Temirova My Day nashriga bergan...</td>\n",
       "      <td>2</td>\n",
       "      <td>Aktrisa Shahlo Temirova o‘ziga yoqmagan roli, ...</td>\n",
       "      <td>2017-06-07</td>\n",
       "      <td>https://daryo.uz/2017/06/07/aktrisa-shahlo-tem...</td>\n",
       "    </tr>\n",
       "  </tbody>\n",
       "</table>\n",
       "<p>2500 rows × 5 columns</p>\n",
       "</div>"
      ],
      "text/plain": [
       "                                                content category  \\\n",
       "0     “Odnoklassniki” ijtimoiy tarmog‘i Smart TV uch...        3   \n",
       "1     2015-yilda o‘zining dastlabki konsert dasturin...        2   \n",
       "2     Rossiya chempionatining 18-turida hamyurtimiz ...        0   \n",
       "3     Joriy yilda onalik baxtiga musharraf bo‘lgan x...        2   \n",
       "4     Rossiya prezidenti Vladimir Putin topshirig‘i ...        3   \n",
       "...                                                 ...      ...   \n",
       "2495  Belgiya bosh vaziri Sharl Mishel marafonga sta...        1   \n",
       "2496  Estradamizning yorqin yulduzi Shahzodaning 15 ...        2   \n",
       "2497  MDHga a’zo mamlakatlarning Mudofaa vazirlari k...        4   \n",
       "2498  Kecha, 21-sentabr sanasida “Sassuolo”—“Empoli”...        0   \n",
       "2499  Aktrisa Shahlo Temirova My Day nashriga bergan...        2   \n",
       "\n",
       "                                                  title       date  \\\n",
       "0        “Odnoklassniki” Smart TV uchun dastur chiqardi 2016-02-23   \n",
       "1     Farhod va Shirin dueti keyingi konsertida “hec... 2016-01-17   \n",
       "2     “Krasnodar” “Spartak”ni mag‘lub etgan o‘yinda ... 2015-03-09   \n",
       "3     Rayhon egizak bolakaylar ishtirokidagi klipini... 2014-06-11   \n",
       "4     Putin topshirig‘iga ko‘ra tuzilgan Rossiyada t... 2016-06-22   \n",
       "...                                                 ...        ...   \n",
       "2495  Belgiya malikasi to‘pponchadan o‘q uzib, bosh ... 2017-05-30   \n",
       "2496  Rossiyaning “Muz-TV” kanali bosh direktori Sha... 2015-05-11   \n",
       "2497  O‘zbekistonda havo sarhadlarining himoya tizim... 2018-04-19   \n",
       "2498  A Seriya. “Inter M” bugun o‘ynaydi, “Milan”, “... 2018-09-22   \n",
       "2499  Aktrisa Shahlo Temirova o‘ziga yoqmagan roli, ... 2017-06-07   \n",
       "\n",
       "                                                    url  \n",
       "0     https://daryo.uz/2016/02/23/odnoklassniki-smar...  \n",
       "1     https://daryo.uz/2016/01/17/farhod-va-shirin-d...  \n",
       "2     https://daryo.uz/2015/03/09/krasnodar-spartakn...  \n",
       "3     https://daryo.uz/2014/06/11/rayhon-egizak-bola...  \n",
       "4     https://daryo.uz/2016/06/22/putin-topshirigiga...  \n",
       "...                                                 ...  \n",
       "2495  https://daryo.uz/2017/05/30/belgiya-malikasi-t...  \n",
       "2496  https://daryo.uz/2015/05/11/rossiyaning-muz-tv...  \n",
       "2497  https://daryo.uz/2018/04/19/ozbekistonda-havo-...  \n",
       "2498  https://daryo.uz/2018/09/22/seriya-inter-m-bug...  \n",
       "2499  https://daryo.uz/2017/06/07/aktrisa-shahlo-tem...  \n",
       "\n",
       "[2500 rows x 5 columns]"
      ]
     },
     "execution_count": 31,
     "metadata": {},
     "output_type": "execute_result"
    }
   ],
   "source": [
    "test"
   ]
  },
  {
   "cell_type": "code",
   "execution_count": 32,
   "metadata": {},
   "outputs": [
    {
     "data": {
      "text/html": [
       "<div>\n",
       "<style scoped>\n",
       "    .dataframe tbody tr th:only-of-type {\n",
       "        vertical-align: middle;\n",
       "    }\n",
       "\n",
       "    .dataframe tbody tr th {\n",
       "        vertical-align: top;\n",
       "    }\n",
       "\n",
       "    .dataframe thead th {\n",
       "        text-align: right;\n",
       "    }\n",
       "</style>\n",
       "<table border=\"1\" class=\"dataframe\">\n",
       "  <thead>\n",
       "    <tr style=\"text-align: right;\">\n",
       "      <th></th>\n",
       "      <th>text</th>\n",
       "      <th>label</th>\n",
       "    </tr>\n",
       "  </thead>\n",
       "  <tbody>\n",
       "    <tr>\n",
       "      <th>0</th>\n",
       "      <td>[CLS] AQSh harbiy-dengiz kuchlarining “Uidbi A...</td>\n",
       "      <td>1</td>\n",
       "    </tr>\n",
       "    <tr>\n",
       "      <th>1</th>\n",
       "      <td>[CLS] Forbes jurnali dunyoning eng ko‘p haq to...</td>\n",
       "      <td>0</td>\n",
       "    </tr>\n",
       "    <tr>\n",
       "      <th>2</th>\n",
       "      <td>[CLS] Xitoyning Shandun shahridagi Sindao pivo...</td>\n",
       "      <td>3</td>\n",
       "    </tr>\n",
       "    <tr>\n",
       "      <th>3</th>\n",
       "      <td>[CLS] Olmaota xalqaro aeroporti Facebook’dagi ...</td>\n",
       "      <td>1</td>\n",
       "    </tr>\n",
       "    <tr>\n",
       "      <th>4</th>\n",
       "      <td>[CLS] AQShning Los-Anjeles shahrida asli vengr...</td>\n",
       "      <td>2</td>\n",
       "    </tr>\n",
       "  </tbody>\n",
       "</table>\n",
       "</div>"
      ],
      "text/plain": [
       "                                                text label\n",
       "0  [CLS] AQSh harbiy-dengiz kuchlarining “Uidbi A...     1\n",
       "1  [CLS] Forbes jurnali dunyoning eng ko‘p haq to...     0\n",
       "2  [CLS] Xitoyning Shandun shahridagi Sindao pivo...     3\n",
       "3  [CLS] Olmaota xalqaro aeroporti Facebook’dagi ...     1\n",
       "4  [CLS] AQShning Los-Anjeles shahrida asli vengr...     2"
      ]
     },
     "execution_count": 32,
     "metadata": {},
     "output_type": "execute_result"
    }
   ],
   "source": [
    "df = pd.DataFrame({\n",
    "        'text': '[CLS] ' + df['content'].replace(r'\\n', ' ', regex= True),\n",
    "        'label': df['category']\n",
    "    })\n",
    "\n",
    "test = pd.DataFrame({\n",
    "        'text': '[CLS] ' + test['content'].replace(r'\\n', ' ', regex= True),\n",
    "        'label': test['category']\n",
    "    })\n",
    "\n",
    "df.head()"
   ]
  },
  {
   "cell_type": "code",
   "execution_count": 33,
   "metadata": {},
   "outputs": [],
   "source": [
    "df = df.sample(frac=1).reset_index(drop=True)\n"
   ]
  },
  {
   "cell_type": "code",
   "execution_count": null,
   "metadata": {},
   "outputs": [
    {
     "name": "stderr",
     "output_type": "stream",
     "text": [
      "Some weights of the model checkpoint at bert-base-multilingual-cased were not used when initializing BertForSequenceClassification: ['cls.predictions.bias', 'cls.predictions.transform.dense.weight', 'cls.predictions.transform.dense.bias', 'cls.predictions.decoder.weight', 'cls.seq_relationship.weight', 'cls.seq_relationship.bias', 'cls.predictions.transform.LayerNorm.weight', 'cls.predictions.transform.LayerNorm.bias']\n",
      "- This IS expected if you are initializing BertForSequenceClassification from the checkpoint of a model trained on another task or with another architecture (e.g. initializing a BertForSequenceClassification model from a BertForPretraining model).\n",
      "- This IS NOT expected if you are initializing BertForSequenceClassification from the checkpoint of a model that you expect to be exactly identical (initializing a BertForSequenceClassification model from a BertForSequenceClassification model).\n",
      "Some weights of BertForSequenceClassification were not initialized from the model checkpoint at bert-base-multilingual-cased and are newly initialized: ['classifier.weight', 'classifier.bias']\n",
      "You should probably TRAIN this model on a down-stream task to be able to use it for predictions and inference.\n",
      "/home/mirzakhalov/anaconda3/envs/transformers/lib/python3.8/site-packages/simpletransformers/classification/classification_model.py:281: UserWarning: Dataframe headers not specified. Falling back to using column 0 as text and column 1 as labels.\n",
      "  warnings.warn(\n"
     ]
    },
    {
     "data": {
      "application/vnd.jupyter.widget-view+json": {
       "model_id": "d499d1c8ead3432e8615139d22b8271c",
       "version_major": 2,
       "version_minor": 0
      },
      "text/plain": [
       "HBox(children=(FloatProgress(value=0.0, description='Epoch', max=2.0, style=ProgressStyle(description_width='i…"
      ]
     },
     "metadata": {},
     "output_type": "display_data"
    },
    {
     "data": {
      "application/vnd.jupyter.widget-view+json": {
       "model_id": "eb0ed38945234e4b8f16dc84e87ccdfe",
       "version_major": 2,
       "version_minor": 0
      },
      "text/plain": [
       "HBox(children=(FloatProgress(value=0.0, description='Running Epoch 0 of 2', max=250.0, style=ProgressStyle(des…"
      ]
     },
     "metadata": {},
     "output_type": "display_data"
    },
    {
     "name": "stderr",
     "output_type": "stream",
     "text": [
      "/home/mirzakhalov/anaconda3/envs/transformers/lib/python3.8/site-packages/torch/nn/parallel/_functions.py:61: UserWarning: Was asked to gather along dimension 0, but all input tensors were scalars; will instead unsqueeze and return a vector.\n",
      "  warnings.warn('Was asked to gather along dimension 0, but all '\n",
      "/home/mirzakhalov/anaconda3/envs/transformers/lib/python3.8/site-packages/torch/optim/lr_scheduler.py:231: UserWarning: To get the last learning rate computed by the scheduler, please use `get_last_lr()`.\n",
      "  warnings.warn(\"To get the last learning rate computed by the scheduler, \"\n"
     ]
    },
    {
     "name": "stdout",
     "output_type": "stream",
     "text": [
      "\n"
     ]
    },
    {
     "name": "stderr",
     "output_type": "stream",
     "text": [
      "/home/mirzakhalov/anaconda3/envs/transformers/lib/python3.8/site-packages/torch/optim/lr_scheduler.py:200: UserWarning: Please also save or load the state of the optimzer when saving or loading the scheduler.\n",
      "  warnings.warn(SAVE_STATE_WARNING, UserWarning)\n",
      "/home/mirzakhalov/anaconda3/envs/transformers/lib/python3.8/site-packages/simpletransformers/classification/classification_model.py:753: UserWarning: Dataframe headers not specified. Falling back to using column 0 as text and column 1 as labels.\n",
      "  warnings.warn(\n"
     ]
    },
    {
     "data": {
      "application/vnd.jupyter.widget-view+json": {
       "model_id": "6eb46bb5f639493d8c23ba85236f78a6",
       "version_major": 2,
       "version_minor": 0
      },
      "text/plain": [
       "HBox(children=(FloatProgress(value=0.0, description='Running Epoch 1 of 2', max=250.0, style=ProgressStyle(des…"
      ]
     },
     "metadata": {},
     "output_type": "display_data"
    }
   ],
   "source": [
    "model = ClassificationModel(\n",
    "                'bert', \n",
    "                'bert-base-multilingual-cased', \n",
    "                    num_labels=5, \n",
    "                        args=(\n",
    "                                    {'overwrite_output_dir': True,\n",
    "                                     'fp16': False,\n",
    "                                     'num_train_epochs': 2,  \n",
    "                                     'reprocess_input_data': False,\n",
    "                                     \"learning_rate\": 5e-6,                                       \n",
    "                                     \"train_batch_size\": 16,\n",
    "                                     \"eval_batch_size\": 16,\n",
    "                                     \"weight_decay\": 0.2,\n",
    "                                     \"max_seq_length\": 256,\n",
    "                                     \"evaluate_during_training_verbose\": True,\n",
    "                                     \"evaluate_during_training\": True,\n",
    "                                     \"weight_decay\": 0,\n",
    "                                     \"do_lower_case\": False,\n",
    "                                     \"n_gpu\": 4, # can be 1 if you have enough memory\n",
    "                                     })\n",
    "                              )\n",
    "# Train the model\n",
    "model.train_model(train, eval_df=test)\n",
    "\n",
    "# Evaluate the model\n",
    "result, model_outputs, wrong_predictions = model.eval_model(test, acc=sklearn.metrics.accuracy_score)\n",
    "print(result)"
   ]
  },
  {
   "cell_type": "code",
   "execution_count": 12,
   "metadata": {},
   "outputs": [],
   "source": [
    "data = pd.read_json(\"output_raw.jsonl\", lines=True)\n"
   ]
  },
  {
   "cell_type": "code",
   "execution_count": 18,
   "metadata": {},
   "outputs": [
    {
     "data": {
      "application/vnd.jupyter.widget-view+json": {
       "model_id": "ecbd6ba708144b688300e902538eb0f1",
       "version_major": 2,
       "version_minor": 0
      },
      "text/plain": [
       "HBox(children=(FloatProgress(value=0.0, max=24707.0), HTML(value='')))"
      ]
     },
     "metadata": {},
     "output_type": "display_data"
    },
    {
     "name": "stdout",
     "output_type": "stream",
     "text": [
      "\n"
     ]
    },
    {
     "data": {
      "application/vnd.jupyter.widget-view+json": {
       "model_id": "8af8ef32717a4a7ab467c98811037dbc",
       "version_major": 2,
       "version_minor": 0
      },
      "text/plain": [
       "HBox(children=(FloatProgress(value=0.0, max=1545.0), HTML(value='')))"
      ]
     },
     "metadata": {},
     "output_type": "display_data"
    },
    {
     "name": "stdout",
     "output_type": "stream",
     "text": [
      "\n"
     ]
    }
   ],
   "source": [
    "result, model_outputs = model.predict(list(data['text_a'].values))"
   ]
  },
  {
   "cell_type": "code",
   "execution_count": 19,
   "metadata": {},
   "outputs": [
    {
     "data": {
      "text/plain": [
       "array([3, 4, 3, ..., 1, 1, 1])"
      ]
     },
     "execution_count": 19,
     "metadata": {},
     "output_type": "execute_result"
    }
   ],
   "source": [
    "result"
   ]
  },
  {
   "cell_type": "code",
   "execution_count": 20,
   "metadata": {},
   "outputs": [],
   "source": [
    "data.insert(2, \"Topic\", result, True)"
   ]
  },
  {
   "cell_type": "code",
   "execution_count": 22,
   "metadata": {},
   "outputs": [],
   "source": [
    "data.to_json(\"output_raw_with_topics.jsonl\", lines=True, orient='records')"
   ]
  },
  {
   "cell_type": "code",
   "execution_count": null,
   "metadata": {},
   "outputs": [],
   "source": []
  }
 ],
 "metadata": {
  "kernelspec": {
   "display_name": "Python 3",
   "language": "python",
   "name": "python3"
  },
  "language_info": {
   "codemirror_mode": {
    "name": "ipython",
    "version": 3
   },
   "file_extension": ".py",
   "mimetype": "text/x-python",
   "name": "python",
   "nbconvert_exporter": "python",
   "pygments_lexer": "ipython3",
   "version": "3.8.3"
  }
 },
 "nbformat": 4,
 "nbformat_minor": 4
}
